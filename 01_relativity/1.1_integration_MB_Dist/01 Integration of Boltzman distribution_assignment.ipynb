{
 "cells": [
  {
   "cell_type": "markdown",
   "metadata": {},
   "source": [
    "# Integration of Boltzman distribution\n",
    "\n",
    "You will turn in a single Jupyter notebook with your results and discussions for the learning objectives (LO) specified below. For discussion of results, make a new cell and change it to \"Markdown\" (on the dropdown menu that may currently say \"Code\").\n"
   ]
  },
  {
   "cell_type": "markdown",
   "metadata": {},
   "source": [
    "## LO 1 Python as a calculator to define a function and answer Krane problem 1.9\n",
    "First, let's learn how to use Python as a calculator, and how to define a function. I'll solve homework problem 1.9 (Textbook by Krane). Complete the code below. The package numpy makes available the following useful items:\n",
    "\n",
    "`np.pi`\n",
    "\n",
    "`np.sqrt`\n",
    "\n",
    "`np.exp`\n",
    "\n",
    "You may also need `pow(number, exponent)`"
   ]
  },
  {
   "cell_type": "code",
   "execution_count": 12,
   "metadata": {
    "collapsed": true
   },
   "outputs": [],
   "source": [
    "#Define a function for number density N(E)/N\n",
    "import numpy as np\n",
    "def numberDensity(E,T):\n",
    "    kB=8.61721e-5 #I'm using eV/K, because this is Modern Physics\n",
    "    #kB=1.38064852e-23  #If you absolutely insist on SI units\n",
    "    #nE is the number density N(E)/N, where N(E)dE is the number having energies between (E,E+dE)\n",
    "    #so nE is the fraction having energies between (E,E+dE)\n",
    "\n",
    "\n",
    "    return nE"
   ]
  },
  {
   "cell_type": "markdown",
   "metadata": {},
   "source": [
    "Now define whatever you need to define and use this function in the code cell below to calculate N(E)/N for the average energy"
   ]
  },
  {
   "cell_type": "code",
   "execution_count": 4,
   "metadata": {},
   "outputs": [
    {
     "name": "stdout",
     "output_type": "stream",
     "text": [
      "E= 0.0306 N(E)/N= 14.8164811619\n",
      "area N(E)/N*\\Delta E = 0.0177797773942\n"
     ]
    }
   ],
   "source": [
    "kB=8.61721e-5 #I'm using eV/K, because this is Modern Physics\n",
    "T=\n",
    "E1=\n",
    "E2=\n",
    "print(\"E=\",E, \"N(E)/N=\",)\n",
    "print(\"area N(E)/N*\\Delta E =\",)"
   ]
  },
  {
   "cell_type": "markdown",
   "metadata": {},
   "source": [
    "## LO 2 Let's make a graph\n",
    "It would be more helpful if we could visualize N(E)/N as a graph. We will use Matplotlib to do that, which is an industry-standard way to make publication-quality graphs. Excel is for business majors.\n",
    "\n",
    "Probably need to install matplotlib. Use Anaconda command prompt as administrator to do this\n",
    "conda install -c conda-forge matplotlib.\n",
    "\n"
   ]
  },
  {
   "cell_type": "code",
   "execution_count": 11,
   "metadata": {},
   "outputs": [
    {
     "name": "stdout",
     "output_type": "stream",
     "text": [
      "EMax= 0.24128188\n"
     ]
    },
    {
     "data": {
      "text/plain": [
       "Text(0.5,0,'E (eV)')"
      ]
     },
     "execution_count": 11,
     "metadata": {},
     "output_type": "execute_result"
    },
    {
     "data": {
      "image/png": "[encoded data removed]",
      "text/plain": [
       "<matplotlib.figure.Figure at 0x16a5016c748>"
      ]
     },
     "metadata": {},
     "output_type": "display_data"
    }
   ],
   "source": [
    "#For more information about matplotlib, see https://matplotlib.org\n",
    "#For how to do this in Jupyter notebook\n",
    "#http://nbviewer.jupyter.org/github/ipython/ipython/blob/1.x/examples/notebooks/Part%203%20-%20Plotting%20with%20Matplotlib.ipynb\n",
    "import numpy as np\n",
    "import matplotlib.pyplot as plt\n",
    "\n",
    "%matplotlib inline\n",
    "\n",
    "kB=8.61721e-5 #I'm using eV/K, because this is Modern Physics\n",
    "T=280\n",
    "EMax = 10.0*kB*T\n",
    "print('EMax=',EMax)\n",
    "# evenly sampled energies\n",
    "ix = np.linspace(0., E2*2, 100)\n",
    "\n",
    "iy = numberDensity(ix,T)\n",
    "\n",
    "\n",
    "plt.plot(ix,iy)\n",
    "plt.ylabel('N(E)/N')\n",
    "plt.xlabel('E (eV)')\n",
    "\n"
   ]
  },
  {
   "cell_type": "markdown",
   "metadata": {},
   "source": [
    "Question: what does the line `ix = np.linspace(0., E2*2, 100)` accomplish?\n",
    "\n",
    "Answer:\n",
    "\n",
    "\n",
    "\n",
    "Question: why must we import numpy?\n",
    "\n",
    "Answer: \n"
   ]
  },
  {
   "cell_type": "markdown",
   "metadata": {},
   "source": [
    "Calculate the expected maximum value of N(E)/N and visually compare with the graph: is the peak of the graph consistent with your calculation?\n",
    "    "
   ]
  },
  {
   "cell_type": "code",
   "execution_count": null,
   "metadata": {
    "collapsed": true
   },
   "outputs": [],
   "source": [
    "print(\"N(E)/N, max =\",)"
   ]
  },
  {
   "cell_type": "markdown",
   "metadata": {
    "collapsed": true
   },
   "source": [
    "## LO3 Discuss the validity of the approximation you used, qualitatively using the graph below\n",
    "\n",
    "As a bonus, I'll show how to generate a graph that is useful for thinking about this problem. You aren't expected to understand exactly how to do it, but do discuss the results below. \n",
    "\n",
    "### Bonus: we can even get fancy and show the region of interest as a shaded region. Here is the example I followed to figure this out.\n",
    "\n",
    "http://nbviewer.jupyter.org/github/ipython/ipython/blob/1.x/examples/notebooks/Part%203%20-%20Plotting%20with%20Matplotlib.ipynb\n",
    "\n",
    "You can pull up the example by executing the \"magic\" command \n",
    "\n",
    "`%load https://matplotlib.org/xkcd/mpl_examples/showcase/integral_demo.py`\n",
    "\n",
    "When I get some time, I'd like to define a function to easily generate Riemann sum boxes, like this \n",
    "\n",
    "http://www.math.wsu.edu/kcooper/M300/pythonplot.php"
   ]
  },
  {
   "cell_type": "code",
   "execution_count": 8,
   "metadata": {},
   "outputs": [
    {
     "name": "stdout",
     "output_type": "stream",
     "text": [
      "EMax= 0.24128188\n"
     ]
    },
    {
     "data": {
      "image/png": "[encoded data removed]",
      "text/plain": [
       "<matplotlib.figure.Figure at 0x16a4f8cef28>"
      ]
     },
     "metadata": {},
     "output_type": "display_data"
    }
   ],
   "source": [
    "#For more information about matplotlib, see https://matplotlib.org\n",
    "#For how to do this in Jupyter notebook\n",
    "#http://nbviewer.jupyter.org/github/ipython/ipython/blob/1.x/examples/notebooks/Part%203%20-%20Plotting%20with%20Matplotlib.ipynb\n",
    "import numpy as np                     #Not necessary to import again\n",
    "import matplotlib.pyplot as plt        #Not necessary to import again\n",
    "from matplotlib.patches import Polygon \n",
    "%matplotlib inline\n",
    "\n",
    "kB=8.61721e-5 #I'm using eV/K, because this is Modern Physics\n",
    "T=280\n",
    "EMax = 10.0*kB*T\n",
    "print('EMax=',EMax)\n",
    "# evenly sampled energies\n",
    "ix = np.linspace(0., E2*2, 100)\n",
    "\n",
    "iy = numberDensity(ix,T)\n",
    "\n",
    "fig, ax = plt.subplots()\n",
    "plt.plot(ix,iy)\n",
    "plt.ylabel('N(E)/N')\n",
    "\n",
    "# Make the shaded region\n",
    "ix = np.linspace(E1, E2)\n",
    "iy = numberDensity(ix,T)\n",
    "verts = [(E1, 0)] + list(zip(ix, iy)) + [(E2, 0)]\n",
    "poly = Polygon(verts, facecolor='0.9', edgecolor='0.5')\n",
    "ax.add_patch(poly)\n",
    "\n",
    "ax.spines['right'].set_visible(False)\n",
    "ax.spines['top'].set_visible(False)\n",
    "ax.xaxis.set_ticks_position('bottom')\n",
    "\n",
    "ax.set_xticks((E1, E2))\n",
    "ax.set_xticklabels(('$E1$', '$E_2$'))\n",
    "ax.set_yticks([])\n",
    "\n",
    "plt.show()\n",
    "#plt.xlabel('time (s)')"
   ]
  },
  {
   "cell_type": "markdown",
   "metadata": {},
   "source": [
    "Question: What was the approximation you made when answering the homework question, and does it seem reasonable, looking at this graph? \n",
    "\n",
    "Answer: \n",
    "\n",
    "\n",
    "\n",
    "Question: Give an example of a range of energies for which this approximation would not be appropriate, by modifying the code below to generate a graph to illustrate your discussion.\n",
    "\n",
    "Answer: "
   ]
  },
  {
   "cell_type": "code",
   "execution_count": 14,
   "metadata": {},
   "outputs": [
    {
     "name": "stdout",
     "output_type": "stream",
     "text": [
      "EMax= 0.24128188\n"
     ]
    },
    {
     "data": {
      "image/png": "[encoded data removed]",
      "text/plain": [
       "<matplotlib.figure.Figure at 0x16a4fad6ef0>"
      ]
     },
     "metadata": {},
     "output_type": "display_data"
    }
   ],
   "source": [
    "%matplotlib inline\n",
    "\n",
    "kB=8.61721e-5 #I'm using eV/K, because this is Modern Physics\n",
    "T=280\n",
    "EMax = 10.0*kB*T\n",
    "print('EMax=',EMax)\n",
    "# evenly sampled energies\n",
    "ix = np.linspace(0., E2*2, 100)\n",
    "\n",
    "iy = numberDensity(ix,T)\n",
    "\n",
    "fig, ax = plt.subplots()\n",
    "plt.plot(ix,iy)\n",
    "plt.ylabel('N(E)/N')\n",
    "\n",
    "# Make the shaded region\n",
    "ix = np.linspace(E1, E2)\n",
    "iy = numberDensity(ix,T)\n",
    "verts = [(E1, 0)] + list(zip(ix, iy)) + [(E2, 0)]\n",
    "poly = Polygon(verts, facecolor='0.9', edgecolor='0.5')\n",
    "ax.add_patch(poly)\n",
    "\n",
    "ax.spines['right'].set_visible(False)\n",
    "ax.spines['top'].set_visible(False)\n",
    "ax.xaxis.set_ticks_position('bottom')\n",
    "\n",
    "ax.set_xticks((E1, E2))\n",
    "ax.set_xticklabels(('$E1$', '$E_2$'))\n",
    "ax.set_yticks([])\n",
    "\n",
    "plt.show()\n",
    "#plt.xlabel('time (s)')"
   ]
  },
  {
   "cell_type": "markdown",
   "metadata": {},
   "source": [
    "## LO 4 create a code which numerically integrates from E=0 to E=1/2 kT\n",
    "\n",
    "You may find the \"Let's Code Physics\" video tutorial by Brian Lane helpful"
   ]
  },
  {
   "cell_type": "markdown",
   "metadata": {},
   "source": [
    "## LO5 Make this code a function and demonstrate convergence \n",
    "\n",
    "Your integration function should accept inputs for which accepts inputs for initial and final energy, temperature, and number of steps. \n",
    "\n",
    "Create a table showing the output of the answer for different number of steps to answer the question of how many steps are required such that the answer \"converges\" to 6 digits?"
   ]
  },
  {
   "cell_type": "code",
   "execution_count": null,
   "metadata": {
    "collapsed": true
   },
   "outputs": [],
   "source": []
  }
 ],
 "metadata": {
  "kernelspec": {
   "display_name": "Python 3",
   "language": "python",
   "name": "python3"
  },
  "language_info": {
   "codemirror_mode": {
    "name": "ipython",
    "version": 3
   },
   "file_extension": ".py",
   "mimetype": "text/x-python",
   "name": "python",
   "nbconvert_exporter": "python",
   "pygments_lexer": "ipython3",
   "version": "3.6.3"
  }
 },
 "nbformat": 4,
 "nbformat_minor": 2
}
